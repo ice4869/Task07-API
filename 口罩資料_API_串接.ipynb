{
  "nbformat": 4,
  "nbformat_minor": 0,
  "metadata": {
    "colab": {
      "provenance": [],
      "authorship_tag": "ABX9TyOpdG1hxmapxO7oXh79rYJh",
      "include_colab_link": true
    },
    "kernelspec": {
      "name": "python3",
      "display_name": "Python 3"
    },
    "language_info": {
      "name": "python"
    }
  },
  "cells": [
    {
      "cell_type": "markdown",
      "metadata": {
        "id": "view-in-github",
        "colab_type": "text"
      },
      "source": [
        "<a href=\"https://colab.research.google.com/github/ice4869/Task07-API/blob/main/%E5%8F%A3%E7%BD%A9%E8%B3%87%E6%96%99_API_%E4%B8%B2%E6%8E%A5.ipynb\" target=\"_parent\"><img src=\"https://colab.research.google.com/assets/colab-badge.svg\" alt=\"Open In Colab\"/></a>"
      ]
    },
    {
      "cell_type": "code",
      "execution_count": 12,
      "metadata": {
        "colab": {
          "base_uri": "https://localhost:8080/"
        },
        "id": "VBtIUINXIz3t",
        "outputId": "8471f0a8-5212-4d0f-b656-0cc7971cb222"
      },
      "outputs": [
        {
          "output_type": "stream",
          "name": "stderr",
          "text": [
            "IOPub data rate exceeded.\n",
            "The notebook server will temporarily stop sending output\n",
            "to the client in order to avoid crashing it.\n",
            "To change this limit, set the config variable\n",
            "`--NotebookApp.iopub_data_rate_limit`.\n",
            "\n",
            "Current values:\n",
            "NotebookApp.iopub_data_rate_limit=1000000.0 (bytes/sec)\n",
            "NotebookApp.rate_limit_window=3.0 (secs)\n",
            "\n"
          ]
        }
      ],
      "source": [
        "import requests\n",
        "import json\n",
        "\n",
        "\n",
        "# 利用 requests 對 API 來源發送一個請求\n",
        "url = \"https://raw.githubusercontent.com/kiang/pharmacies/master/json/points.json\"\n",
        "\n",
        "# 發送請求並取得回應\n",
        "response = requests.get(url)\n",
        "\n",
        "# 將請求回應的內容存成一個字串格式\n",
        "response_text = response.text\n",
        "\n",
        "# 解析回應內容成字典或列表\n",
        "data = json.loads(response_text)\n",
        "print(data)\n",
        "\n",
        "med_count = {}\n",
        "# 填入欄位名稱\n",
        "for d in data[\"features\"]:\n",
        "  county = d[\"properties\"][\"county\"]\n",
        "  if county not in med_count:\n",
        "    med_count[county] = 0\n",
        "  med_count[county] = med_count[county] + 1\n",
        "\n",
        "print(med_count)    \n",
        "\n",
        "mask_count = {}\n",
        "# 填入欄位名稱\n",
        "for d in data[\"features\"]:\n",
        "  county = d[\"properties\"][\"county\"]\n",
        "  mask_adult = d['properties']['mask_adult']\n",
        "  if county not in mask_count:\n",
        "    mask_count[county] = 0\n",
        "  mask_count[county] = mask_count[county] + mask_adult\n",
        "\n",
        " # 將結果從大到小排列\n",
        "mask_count = dict(sorted(mask_count.items() , key = lambda item:item[1] , reverse = True) )   \n",
        "\n",
        "print(mask_count)\n",
        "\n"
      ]
    }
  ]
}