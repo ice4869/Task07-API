{
  "nbformat": 4,
  "nbformat_minor": 0,
  "metadata": {
    "colab": {
      "provenance": [],
      "authorship_tag": "ABX9TyPFmt7a0TQ/ds3ucoJXm7gK",
      "include_colab_link": true
    },
    "kernelspec": {
      "name": "python3",
      "display_name": "Python 3"
    },
    "language_info": {
      "name": "python"
    }
  },
  "cells": [
    {
      "cell_type": "markdown",
      "metadata": {
        "id": "view-in-github",
        "colab_type": "text"
      },
      "source": [
        "<a href=\"https://colab.research.google.com/github/ice4869/Task07-API/blob/main/%E5%8F%A3%E7%BD%A9%E8%B3%87%E6%96%99_API_%E4%B8%B2%E6%8E%A5.ipynb\" target=\"_parent\"><img src=\"https://colab.research.google.com/assets/colab-badge.svg\" alt=\"Open In Colab\"/></a>"
      ]
    },
    {
      "cell_type": "code",
      "execution_count": 6,
      "metadata": {
        "colab": {
          "base_uri": "https://localhost:8080/"
        },
        "id": "VBtIUINXIz3t",
        "outputId": "405971f6-b427-4cf2-d28a-417c23917f71"
      },
      "outputs": [
        {
          "output_type": "stream",
          "name": "stdout",
          "text": [
            "{'臺北市': 340, '高雄市': 424, '臺中市': 436, '臺南市': 280, '基隆市': 57, '新竹市': 39, '嘉義市': 67, '新北市': 507, '桃園市': 271, '新竹縣': 48, '宜蘭縣': 76, '苗栗縣': 57, '彰化縣': 181, '南投縣': 67, '雲林縣': 131, '嘉義縣': 84, '屏東縣': 140, '澎湖縣': 11, '花蓮縣': 47, '臺東縣': 23, '金門縣': 6, '連江縣': 1}\n",
            "{'新北市': 677660, '臺中市': 556440, '高雄市': 428940, '臺南市': 408400, '桃園市': 345600, '臺北市': 323660, '彰化縣': 219400, '雲林縣': 199470, '屏東縣': 184250, '苗栗縣': 134180, '嘉義縣': 113180, '嘉義市': 107840, '宜蘭縣': 106900, '南投縣': 91240, '基隆市': 80100, '花蓮縣': 57330, '新竹縣': 53760, '新竹市': 45630, '臺東縣': 28510, '金門縣': 15510, '澎湖縣': 12600, '連江縣': 7930}\n",
            "[('臺北市', '340', '2023-03-29 12:10:47.116753'), ('高雄市', '424', '2023-03-29 12:10:47.124795'), ('臺中市', '436', '2023-03-29 12:10:47.133524'), ('臺南市', '280', '2023-03-29 12:10:47.141722'), ('基隆市', '57', '2023-03-29 12:10:47.150895'), ('新竹市', '39', '2023-03-29 12:10:47.158490'), ('嘉義市', '67', '2023-03-29 12:10:47.166459'), ('新北市', '507', '2023-03-29 12:10:47.174231'), ('桃園市', '271', '2023-03-29 12:10:47.181811'), ('新竹縣', '48', '2023-03-29 12:10:47.189885'), ('宜蘭縣', '76', '2023-03-29 12:10:47.199716'), ('苗栗縣', '57', '2023-03-29 12:10:47.206953'), ('彰化縣', '181', '2023-03-29 12:10:47.214425'), ('南投縣', '67', '2023-03-29 12:10:47.221717'), ('雲林縣', '131', '2023-03-29 12:10:47.229236'), ('嘉義縣', '84', '2023-03-29 12:10:47.236771'), ('屏東縣', '140', '2023-03-29 12:10:47.245084'), ('澎湖縣', '11', '2023-03-29 12:10:47.253464'), ('花蓮縣', '47', '2023-03-29 12:10:47.262605'), ('臺東縣', '23', '2023-03-29 12:10:47.270687'), ('金門縣', '6', '2023-03-29 12:10:47.278555'), ('連江縣', '1', '2023-03-29 12:10:47.285936')]\n",
            "[('新北市', '677660', '2023-03-29 12:10:47.302745'), ('臺中市', '556440', '2023-03-29 12:10:47.312417'), ('高雄市', '428940', '2023-03-29 12:10:47.319582'), ('臺南市', '408400', '2023-03-29 12:10:47.328285'), ('桃園市', '345600', '2023-03-29 12:10:47.335132'), ('臺北市', '323660', '2023-03-29 12:10:47.342026'), ('彰化縣', '219400', '2023-03-29 12:10:47.349735'), ('雲林縣', '199470', '2023-03-29 12:10:47.356458'), ('屏東縣', '184250', '2023-03-29 12:10:47.363382'), ('苗栗縣', '134180', '2023-03-29 12:10:47.370828'), ('嘉義縣', '113180', '2023-03-29 12:10:47.378081'), ('嘉義市', '107840', '2023-03-29 12:10:47.387045'), ('宜蘭縣', '106900', '2023-03-29 12:10:47.394388'), ('南投縣', '91240', '2023-03-29 12:10:47.401461'), ('基隆市', '80100', '2023-03-29 12:10:47.408601'), ('花蓮縣', '57330', '2023-03-29 12:10:47.415696'), ('新竹縣', '53760', '2023-03-29 12:10:47.422700'), ('新竹市', '45630', '2023-03-29 12:10:47.430376'), ('臺東縣', '28510', '2023-03-29 12:10:47.437307'), ('金門縣', '15510', '2023-03-29 12:10:47.444446'), ('澎湖縣', '12600', '2023-03-29 12:10:47.455263'), ('連江縣', '7930', '2023-03-29 12:10:47.462779')]\n"
          ]
        }
      ],
      "source": [
        "import requests\n",
        "import json\n",
        "import sqlite3\n",
        "import datetime\n",
        "\n",
        "# 利用 requests 對 API 來源發送一個請求\n",
        "url = \"https://raw.githubusercontent.com/kiang/pharmacies/master/json/points.json\"\n",
        "\n",
        "# 發送請求並取得回應\n",
        "response = requests.get(url)\n",
        "\n",
        "# 將請求回應的內容存成一個字串格式\n",
        "response_text = response.text\n",
        "\n",
        "# 解析回應內容成字典或列表\n",
        "data = json.loads(response_text)\n",
        "#print(data)\n",
        "\n",
        "med_count = {}\n",
        "\n",
        "# 填入欄位名稱\n",
        "for d in data['features']:\n",
        "    conunty = d['properties']['address'][:3]\n",
        "    if conunty not in med_count:\n",
        "         med_count[conunty] = 0\n",
        "    \n",
        "    med_count[conunty] = med_count[conunty] + 1\n",
        "print(med_count)\n",
        "\n",
        "mask_count = {}\n",
        "\n",
        "# 填入欄位名稱\n",
        "\n",
        "for d in data['features']:\n",
        "    conunty = d['properties']['address'][:3]\n",
        "    mask_adult = d['properties']['mask_adult']\n",
        "    if conunty not in mask_count:\n",
        "        mask_count[conunty] = 0\n",
        "    mask_count[conunty] = mask_count[conunty] + mask_adult \n",
        "\n",
        "# 將結果從大到小排列\n",
        "mask_count = dict(sorted(mask_count.items(), key=lambda item: item[1], reverse=True))\n",
        "\n",
        "print(mask_count)\n",
        "\n",
        "#存入資料庫\n",
        "conn = sqlite3.connect(\"example.db\")\n",
        "c = conn.cursor()\n",
        "\n",
        "#新增且清空資料表\n",
        "c.execute('''CREATE TABLE IF NOT EXISTS pharmacies(city text , counts text , createAt datetime)''')\n",
        "c.execute('''DELETE FROM pharmacies''')\n",
        "\n",
        "conn.commit()\n",
        "\n",
        "#新增資料\n",
        "for city , counts in med_count.items():\n",
        "  t = datetime.datetime.now()\n",
        "  c.execute(f\"INSERT INTO pharmacies VALUES ('{city}' , '{counts}' , '{t}')\")\n",
        "  conn.commit()\n",
        "\n",
        "#查詢資料\n",
        "c.execute(\"SELECT * FROM pharmacies\")\n",
        "print(c.fetchall())\n",
        "\n",
        "conn.commit()\n",
        "conn.close()\n",
        "\n",
        "\n",
        "\n",
        "\n",
        "\n",
        "conn = sqlite3.connect('example.db')\n",
        "c = conn.cursor()\n",
        "\n",
        "# 新增且清空資料表\n",
        "c.execute('''CREATE TABLE IF NOT EXISTS masks\n",
        "             (city text, mask_count text, createdAt datetime)''')\n",
        "c.execute('''DELETE FROM masks''')\n",
        "conn.commit()\n",
        "\n",
        "# 新增資料\n",
        "\n",
        "for city , counts in mask_count.items():\n",
        "  t = datetime.datetime.now()\n",
        "  c.execute(f\"INSERT INTO masks VALUES ('{city}', {counts}, '{t}')\")\n",
        "  conn.commit()\n",
        "\n",
        "# 查詢資料\n",
        "c.execute(\"SELECT * FROM masks\")\n",
        "print(c.fetchall())\n",
        "\n",
        "conn.commit()\n",
        "conn.close()"
      ]
    },
    {
      "cell_type": "code",
      "source": [],
      "metadata": {
        "id": "OssIZJB2K2t0"
      },
      "execution_count": null,
      "outputs": []
    }
  ]
}